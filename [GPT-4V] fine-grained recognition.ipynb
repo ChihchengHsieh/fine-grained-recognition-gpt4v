{
 "cells": [
  {
   "cell_type": "markdown",
   "metadata": {},
   "source": [
    "# Fine-grained recognition using GPT-4V and few shot prompting\n",
    "The primary concept behind this approach involves crafting a few-shot prompt for GPT-4, initially presenting it with samples from all the classes. Subsequently, we input the target image for classification to GPT-4 and request its prediction.\n",
    "\n",
    "In this scenario, we begin by showcasing the following three images to GPT-4, illustrating the appearance of each class (n=3).\n",
    "\n",
    "| smart fortwo Convertible 2012|Toyota Sequoia SUV 2012|Volvo 240 Sedan 1993|\n",
    "|:-------------------------:|:-------------------------:|:-------------------------:|\n",
    "|<img src=\"./cars/smart%20fortwo%20Convertible%202012.jpg\" width=\"400\">|<img src=\"./cars/Toyota%20Sequoia%20SUV%202012.jpg\" width=\"400\">|<img src=\"./cars/Volvo%20240%20Sedan%201993.jpg\" width=\"400\">|\n",
    "\n",
    "Subsequently, we inquire of GPT-4V, \"Based on the cars mentioned earlier, which car is portrayed in the following image?\"\n",
    "\n",
    "<img src=\"./cars/input.jpg\" width=\"400\">\n"
   ]
  },
  {
   "cell_type": "code",
   "execution_count": 5,
   "metadata": {},
   "outputs": [
    {
     "name": "stdout",
     "output_type": "stream",
     "text": [
      "{'id': 'chatcmpl-8vIZ2NFY5MFa4z0ltBJIKiIOBsr3l', 'object': 'chat.completion', 'created': 1708666748, 'model': 'gpt-4-1106-vision-preview', 'usage': {'prompt_tokens': 2620, 'completion_tokens': 206, 'total_tokens': 2826}, 'choices': [{'message': {'role': 'assistant', 'content': 'Based on the images provided, the car portrayed in the last image is also a Smart Fortwo Convertible. The pertinent reasons for this identification are:\\n\\n1. Compact Size: The vehicle in the image is a small, two-seater car, which is characteristic of the Smart Fortwo model.\\n\\n2. Design Features: The headlight design, the front grille shape, and placement of the smart logo are the same as in the images of the Smart Fortwo Convertible 2012 you provided earlier.\\n\\n3. Convertible Roof: The car in the image has an open top, which is consistent with the convertible version of the Smart Fortwo.\\n\\n4. Distinctive Markings: The rear portion of the side panels features a colored accent, which is a design element frequently found on Smart cars.\\n\\nThe combination of these features, particularly the size, design cues, and open-top, make it clear that the car in the last image is a Smart Fortwo Convertible, similar to the one in the first three images.'}, 'finish_reason': 'stop', 'index': 0}]}\n"
     ]
    }
   ],
   "source": [
    "import base64\n",
    "import requests\n",
    "from secret import *\n",
    "\n",
    "# setup OpenAI API key\n",
    "api_key = OPENAI_API_KEY\n",
    "\n",
    "# function to encode the image \n",
    "def encode_image(image_path):\n",
    "    with open(image_path, \"rb\") as image_file:\n",
    "        return base64.b64encode(image_file.read()).decode(\"utf-8\")\n",
    "\n",
    "\n",
    "all_cars = [\n",
    "    \"smart fortwo Convertible 2012\",\n",
    "    \"Toyota Sequoia SUV 2012.jpg\",\n",
    "    \"Volvo 240 Sedan 1993.jpg\",\n",
    "]\n",
    "\n",
    "def build_class_knowledge(cars):\n",
    "    class_knowledge = []\n",
    "    for c in cars:\n",
    "        encoded_img = encode_image(\"./cars/smart fortwo Convertible 2012.jpg\")\n",
    "        class_knowledge.extend(\n",
    "            [\n",
    "                {\n",
    "                    \"type\": \"text\",\n",
    "                    \"text\": \"This car is smart fortwo Convertible 2012.\",\n",
    "                },\n",
    "                {\n",
    "                    \"type\": \"image_url\",\n",
    "                    \"image_url\": {\"url\": f\"data:image/jpeg;base64,{encoded_img}\"},\n",
    "                },\n",
    "            ]\n",
    "        )\n",
    "    return class_knowledge\n",
    "\n",
    "# encode input image.\n",
    "input_image = encode_image(\"./cars/input.jpg\")\n",
    "\n",
    "# prepare header for visiting API.\n",
    "headers = {\"Content-Type\": \"application/json\", \"Authorization\": f\"Bearer {api_key}\"}\n",
    "\n",
    "# creating payload for requesting GPT-4V\n",
    "payload = {\n",
    "    \"model\": \"gpt-4-vision-preview\",\n",
    "    \"messages\": [\n",
    "        {\n",
    "            \"role\": \"user\",\n",
    "            \"content\": build_class_knowledge(all_cars)\n",
    "            + [\n",
    "                {\n",
    "                    \"type\": \"text\",\n",
    "                    \"text\": \"Based on the cars mentioned earlier, which car is portrayed in the following image? Kindly provide your answer along with the pertinent reasons.\",\n",
    "                },\n",
    "                {\n",
    "                    \"type\": \"image_url\",\n",
    "                    \"image_url\": {\"url\": f\"data:image/jpeg;base64,{input_image}\"},\n",
    "                },\n",
    "            ],\n",
    "        }\n",
    "    ],\n",
    "    \"max_tokens\": 300,\n",
    "}\n",
    "\n",
    "# send request to OpenAI API\n",
    "response = requests.post(\n",
    "    \"https://api.openai.com/v1/chat/completions\", headers=headers, json=payload\n",
    ")\n",
    "\n",
    "print(response.json())"
   ]
  },
  {
   "cell_type": "markdown",
   "metadata": {},
   "source": [
    "#### The response provided by GPT-4 is as follows, ,which is accurate, supported by compelling rationale."
   ]
  },
  {
   "cell_type": "code",
   "execution_count": 7,
   "metadata": {},
   "outputs": [
    {
     "name": "stdout",
     "output_type": "stream",
     "text": [
      "Based on the images provided, the car portrayed in the last image is also a Smart Fortwo Convertible. The pertinent reasons for this identification are:\n",
      "\n",
      "1. Compact Size: The vehicle in the image is a small, two-seater car, which is characteristic of the Smart Fortwo model.\n",
      "\n",
      "2. Design Features: The headlight design, the front grille shape, and placement of the smart logo are the same as in the images of the Smart Fortwo Convertible 2012 you provided earlier.\n",
      "\n",
      "3. Convertible Roof: The car in the image has an open top, which is consistent with the convertible version of the Smart Fortwo.\n",
      "\n",
      "4. Distinctive Markings: The rear portion of the side panels features a colored accent, which is a design element frequently found on Smart cars.\n",
      "\n",
      "The combination of these features, particularly the size, design cues, and open-top, make it clear that the car in the last image is a Smart Fortwo Convertible, similar to the one in the first three images.\n"
     ]
    }
   ],
   "source": [
    "print(response.json()['choices'][0]['message']['content'])"
   ]
  },
  {
   "cell_type": "code",
   "execution_count": null,
   "metadata": {},
   "outputs": [],
   "source": []
  }
 ],
 "metadata": {
  "kernelspec": {
   "display_name": "pytorch",
   "language": "python",
   "name": "python3"
  },
  "language_info": {
   "codemirror_mode": {
    "name": "ipython",
    "version": 3
   },
   "file_extension": ".py",
   "mimetype": "text/x-python",
   "name": "python",
   "nbconvert_exporter": "python",
   "pygments_lexer": "ipython3",
   "version": "3.9.18"
  }
 },
 "nbformat": 4,
 "nbformat_minor": 2
}
